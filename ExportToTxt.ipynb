{
 "cells": [
  {
   "cell_type": "code",
   "execution_count": null,
   "metadata": {},
   "outputs": [],
   "source": [
    "import csv\n",
    "import numpy as np\n",
    "\n",
    "# Load data\n",
    "with open('Export_time.csv',newline='') as csvfile:\n",
    "\tdata = list(csv.reader(csvfile))\n",
    "\n",
    "#Get only time data\n",
    "dataNew = []\n",
    "for x in range (1,len(data)):\n",
    "\tdataNew.append(data[x][10:])\n",
    "\n",
    "dataNew = np.asarray(dataNew)\n",
    "\n",
    "# Save in a txt\n",
    "np.savetxt('TimeData.txt',dataNew, fmt='%s')\n"
   ]
  }
 ],
 "metadata": {
  "kernelspec": {
   "display_name": "Python 3",
   "language": "python",
   "name": "python3"
  },
  "language_info": {
   "codemirror_mode": {
    "name": "ipython",
    "version": 3
   },
   "file_extension": ".py",
   "mimetype": "text/x-python",
   "name": "python",
   "nbconvert_exporter": "python",
   "pygments_lexer": "ipython3",
   "version": "3.6.4"
  }
 },
 "nbformat": 4,
 "nbformat_minor": 2
}
